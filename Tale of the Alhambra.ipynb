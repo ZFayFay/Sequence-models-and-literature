{
 "cells": [
  {
   "cell_type": "code",
   "execution_count": 1,
   "metadata": {},
   "outputs": [
    {
     "name": "stderr",
     "output_type": "stream",
     "text": [
      "Using TensorFlow backend.\n"
     ]
    }
   ],
   "source": [
    "import urllib\n",
    "import numpy as np\n",
    "\n",
    "import tensorflow as tf\n",
    "from tensorflow import keras\n",
    "\n",
    "from keras.models import Sequential\n",
    "from keras.layers import Dense, Dropout, Embedding, LSTM, Bidirectional,Activation\n",
    "from keras.layers.recurrent import SimpleRNN\n",
    "from keras.preprocessing.text import Tokenizer\n",
    "from keras.layers import LSTM\n",
    "from keras.preprocessing.sequence import pad_sequences\n",
    "from keras.optimizers import adam"
   ]
  },
  {
   "cell_type": "code",
   "execution_count": 4,
   "metadata": {},
   "outputs": [],
   "source": [
    "with open(\"C://users//fayca//downloads//ALHAMBRA.txt\",encoding='UTF-8') as f:\n",
    "    text = f.read()"
   ]
  },
  {
   "cell_type": "code",
   "execution_count": 8,
   "metadata": {},
   "outputs": [],
   "source": [
    "corpus = text.lower().split(\"\\n\")"
   ]
  },
  {
   "cell_type": "code",
   "execution_count": 245,
   "metadata": {},
   "outputs": [
    {
     "data": {
      "text/plain": [
       "['something of the arabian character. the general insecurity of the',\n",
       " 'country is evinced in the universal use of weapons. the herdsman in the',\n",
       " 'field, the shepherd in the plain, has his musket and his knife. the',\n",
       " 'wealthy villager rarely ventures to the market-town without his trabuco,',\n",
       " 'and, perhaps, a servant on foot with a blunderbuss on his shoulder; and',\n",
       " 'the most petty journey is undertaken with the preparation of a warlike',\n",
       " 'enterprise.']"
      ]
     },
     "execution_count": 245,
     "metadata": {},
     "output_type": "execute_result"
    }
   ],
   "source": [
    "corpus[30:37]"
   ]
  },
  {
   "cell_type": "code",
   "execution_count": 10,
   "metadata": {},
   "outputs": [],
   "source": [
    "tokenizer = Tokenizer()\n",
    "tokenizer.fit_on_texts(corpus)\n",
    "total_words = len(tokenizer.word_index) + 1"
   ]
  },
  {
   "cell_type": "code",
   "execution_count": 11,
   "metadata": {},
   "outputs": [
    {
     "data": {
      "text/plain": [
       "11405"
      ]
     },
     "execution_count": 11,
     "metadata": {},
     "output_type": "execute_result"
    }
   ],
   "source": [
    "total_words"
   ]
  },
  {
   "cell_type": "code",
   "execution_count": 12,
   "metadata": {},
   "outputs": [],
   "source": [
    "input_sequences = []\n",
    "for line in corpus:\n",
    "    token_list = tokenizer.texts_to_sequences([line])[0]\n",
    "    for i in range(1, len(token_list)):\n",
    "        n_gram_sequence = token_list[:i+1]\n",
    "        input_sequences.append(n_gram_sequence)"
   ]
  },
  {
   "cell_type": "code",
   "execution_count": 13,
   "metadata": {},
   "outputs": [
    {
     "data": {
      "text/plain": [
       "110621"
      ]
     },
     "execution_count": 13,
     "metadata": {},
     "output_type": "execute_result"
    }
   ],
   "source": [
    "len(input_sequences)"
   ]
  },
  {
   "cell_type": "code",
   "execution_count": 14,
   "metadata": {},
   "outputs": [
    {
     "data": {
      "text/plain": [
       "19"
      ]
     },
     "execution_count": 14,
     "metadata": {},
     "output_type": "execute_result"
    }
   ],
   "source": [
    "max_sequences_len = max([len(x) for x in input_sequences])\n",
    "max_sequences_len"
   ]
  },
  {
   "cell_type": "code",
   "execution_count": 15,
   "metadata": {},
   "outputs": [],
   "source": [
    "input_sequences = np.array(pad_sequences(input_sequences, maxlen=max_sequences_len, padding='pre'))"
   ]
  },
  {
   "cell_type": "code",
   "execution_count": 16,
   "metadata": {},
   "outputs": [
    {
     "data": {
      "text/plain": [
       "array([   0,    0,    0,    0,    0,    0,    0,  823,  117,  486,   70,\n",
       "         44,   23,  192,  247,   95,   42,    2, 1070])"
      ]
     },
     "execution_count": 16,
     "metadata": {},
     "output_type": "execute_result"
    }
   ],
   "source": [
    "input_sequences[-1]"
   ]
  },
  {
   "cell_type": "code",
   "execution_count": 17,
   "metadata": {},
   "outputs": [],
   "source": [
    "xs = input_sequences[:, :-1]\n",
    "labels = input_sequences[:,-1]\n",
    "ys = keras.utils.to_categorical(labels, num_classes=total_words)"
   ]
  },
  {
   "cell_type": "code",
   "execution_count": 18,
   "metadata": {},
   "outputs": [
    {
     "data": {
      "text/plain": [
       "'times with verdure, at other times naked and sunburnt, but he looks'"
      ]
     },
     "execution_count": 18,
     "metadata": {},
     "output_type": "execute_result"
    }
   ],
   "source": [
    "corpus[2]"
   ]
  },
  {
   "cell_type": "code",
   "execution_count": 19,
   "metadata": {},
   "outputs": [
    {
     "data": {
      "text/plain": [
       "array([   0,    0,    0,    0,    0,    0,    0,    0,    0,    0,    0,\n",
       "          0,    0,    0,    0,    6,    1,  817, 2128])"
      ]
     },
     "execution_count": 19,
     "metadata": {},
     "output_type": "execute_result"
    }
   ],
   "source": [
    "input_sequences[2]"
   ]
  },
  {
   "cell_type": "markdown",
   "metadata": {},
   "source": [
    " if we consider this list of tokens as a sentence, then the x is the list up to the last value"
   ]
  },
  {
   "cell_type": "code",
   "execution_count": 20,
   "metadata": {},
   "outputs": [
    {
     "data": {
      "text/plain": [
       "array([  0,   0,   0,   0,   0,   0,   0,   0,   0,   0,   0,   0,   0,\n",
       "         0,   0,   6,   1, 817])"
      ]
     },
     "execution_count": 20,
     "metadata": {},
     "output_type": "execute_result"
    }
   ],
   "source": [
    "xs[2]"
   ]
  },
  {
   "cell_type": "markdown",
   "metadata": {},
   "source": [
    "the label is the last value which in this case is 1873"
   ]
  },
  {
   "cell_type": "code",
   "execution_count": 21,
   "metadata": {},
   "outputs": [
    {
     "data": {
      "text/plain": [
       "2128"
      ]
     },
     "execution_count": 21,
     "metadata": {},
     "output_type": "execute_result"
    }
   ],
   "source": [
    "labels[2]"
   ]
  },
  {
   "cell_type": "markdown",
   "metadata": {},
   "source": [
    "The y is a one-hot encoded array whether length is the size of the corpus of words and the value that is set to one is the one at the index of the label"
   ]
  },
  {
   "cell_type": "code",
   "execution_count": 22,
   "metadata": {},
   "outputs": [
    {
     "data": {
      "text/plain": [
       "array([0., 0., 0., ..., 0., 0., 0.], dtype=float32)"
      ]
     },
     "execution_count": 22,
     "metadata": {},
     "output_type": "execute_result"
    }
   ],
   "source": [
    "ys[-1]"
   ]
  },
  {
   "cell_type": "code",
   "execution_count": 23,
   "metadata": {},
   "outputs": [
    {
     "data": {
      "text/plain": [
       "(110621, 18)"
      ]
     },
     "execution_count": 23,
     "metadata": {},
     "output_type": "execute_result"
    }
   ],
   "source": [
    "xs.shape"
   ]
  },
  {
   "cell_type": "code",
   "execution_count": 44,
   "metadata": {
    "scrolled": true
   },
   "outputs": [
    {
     "name": "stderr",
     "output_type": "stream",
     "text": [
      "C:\\Users\\fayca\\anaconda3\\envs\\tf-gpu\\lib\\site-packages\\tensorflow_core\\python\\framework\\indexed_slices.py:433: UserWarning: Converting sparse IndexedSlices to a dense Tensor of unknown shape. This may consume a large amount of memory.\n",
      "  \"Converting sparse IndexedSlices to a dense Tensor of unknown shape. \"\n"
     ]
    },
    {
     "name": "stdout",
     "output_type": "stream",
     "text": [
      "Epoch 1/100\n",
      "110621/110621 [==============================] - 123s 1ms/step - loss: 6.3659 - accuracy: 0.1319\n",
      "Epoch 2/100\n",
      "110621/110621 [==============================] - 126s 1ms/step - loss: 5.6403 - accuracy: 0.1720\n",
      "Epoch 3/100\n",
      "110621/110621 [==============================] - 120s 1ms/step - loss: 5.2011 - accuracy: 0.1974\n",
      "Epoch 4/100\n",
      "110621/110621 [==============================] - 119s 1ms/step - loss: 4.8510 - accuracy: 0.2185\n",
      "Epoch 5/100\n",
      "110621/110621 [==============================] - 119s 1ms/step - loss: 4.5756 - accuracy: 0.2380\n",
      "Epoch 6/100\n",
      "110621/110621 [==============================] - 120s 1ms/step - loss: 4.3488 - accuracy: 0.2559\n",
      "Epoch 7/100\n",
      "110621/110621 [==============================] - 123s 1ms/step - loss: 4.1571 - accuracy: 0.2738\n",
      "Epoch 8/100\n",
      "110621/110621 [==============================] - 122s 1ms/step - loss: 3.9852 - accuracy: 0.2904\n",
      "Epoch 9/100\n",
      "110621/110621 [==============================] - 121s 1ms/step - loss: 3.8306 - accuracy: 0.3057\n",
      "Epoch 10/100\n",
      "110621/110621 [==============================] - 122s 1ms/step - loss: 3.6908 - accuracy: 0.3223\n",
      "Epoch 11/100\n",
      "110621/110621 [==============================] - 122s 1ms/step - loss: 3.5644 - accuracy: 0.3369\n",
      "Epoch 12/100\n",
      "110621/110621 [==============================] - 122s 1ms/step - loss: 3.4507 - accuracy: 0.3484\n",
      "Epoch 13/100\n",
      "110621/110621 [==============================] - 122s 1ms/step - loss: 3.3407 - accuracy: 0.3633\n",
      "Epoch 14/100\n",
      "110621/110621 [==============================] - 122s 1ms/step - loss: 3.2423 - accuracy: 0.3766\n",
      "Epoch 15/100\n",
      "110621/110621 [==============================] - 121s 1ms/step - loss: 3.1508 - accuracy: 0.3890\n",
      "Epoch 16/100\n",
      "110621/110621 [==============================] - 121s 1ms/step - loss: 3.0587 - accuracy: 0.4005\n",
      "Epoch 17/100\n",
      "110621/110621 [==============================] - 122s 1ms/step - loss: 2.9722 - accuracy: 0.4128\n",
      "Epoch 18/100\n",
      "110621/110621 [==============================] - 121s 1ms/step - loss: 2.8899 - accuracy: 0.4257\n",
      "Epoch 19/100\n",
      "110621/110621 [==============================] - 122s 1ms/step - loss: 2.8137 - accuracy: 0.4361\n",
      "Epoch 20/100\n",
      "110621/110621 [==============================] - 121s 1ms/step - loss: 2.7356 - accuracy: 0.4476\n",
      "Epoch 21/100\n",
      "110621/110621 [==============================] - 120s 1ms/step - loss: 2.6633 - accuracy: 0.4591\n",
      "Epoch 22/100\n",
      "110621/110621 [==============================] - 120s 1ms/step - loss: 2.6000 - accuracy: 0.4682\n",
      "Epoch 23/100\n",
      "110621/110621 [==============================] - 120s 1ms/step - loss: 2.5329 - accuracy: 0.4782\n",
      "Epoch 24/100\n",
      "110621/110621 [==============================] - 120s 1ms/step - loss: 2.4749 - accuracy: 0.4869\n",
      "Epoch 25/100\n",
      "110621/110621 [==============================] - 121s 1ms/step - loss: 2.4116 - accuracy: 0.4976\n",
      "Epoch 26/100\n",
      "110621/110621 [==============================] - 121s 1ms/step - loss: 2.3556 - accuracy: 0.5065\n",
      "Epoch 27/100\n",
      "110621/110621 [==============================] - 122s 1ms/step - loss: 2.3032 - accuracy: 0.5156\n",
      "Epoch 28/100\n",
      "110621/110621 [==============================] - 123s 1ms/step - loss: 2.2505 - accuracy: 0.5246\n",
      "Epoch 29/100\n",
      "110621/110621 [==============================] - 125s 1ms/step - loss: 2.2024 - accuracy: 0.5345\n",
      "Epoch 30/100\n",
      "110621/110621 [==============================] - 126s 1ms/step - loss: 2.1549 - accuracy: 0.5411\n",
      "Epoch 31/100\n",
      "110621/110621 [==============================] - 123s 1ms/step - loss: 2.1113 - accuracy: 0.5492\n",
      "Epoch 32/100\n",
      "110621/110621 [==============================] - 125s 1ms/step - loss: 2.0650 - accuracy: 0.5554\n",
      "Epoch 33/100\n",
      "110621/110621 [==============================] - 126s 1ms/step - loss: 2.0237 - accuracy: 0.5649\n",
      "Epoch 34/100\n",
      "110621/110621 [==============================] - 124s 1ms/step - loss: 1.9837 - accuracy: 0.5719\n",
      "Epoch 35/100\n",
      "110621/110621 [==============================] - 121s 1ms/step - loss: 1.9387 - accuracy: 0.5807\n",
      "Epoch 36/100\n",
      "110621/110621 [==============================] - 121s 1ms/step - loss: 1.9075 - accuracy: 0.5842\n",
      "Epoch 37/100\n",
      "110621/110621 [==============================] - 120s 1ms/step - loss: 1.8685 - accuracy: 0.5932\n",
      "Epoch 38/100\n",
      "110621/110621 [==============================] - 120s 1ms/step - loss: 1.8311 - accuracy: 0.5995\n",
      "Epoch 39/100\n",
      "110621/110621 [==============================] - 121s 1ms/step - loss: 1.7994 - accuracy: 0.6053\n",
      "Epoch 40/100\n",
      "110621/110621 [==============================] - 125s 1ms/step - loss: 1.7688 - accuracy: 0.6111\n",
      "Epoch 41/100\n",
      "110621/110621 [==============================] - 126s 1ms/step - loss: 1.7349 - accuracy: 0.6175\n",
      "Epoch 42/100\n",
      "110621/110621 [==============================] - 125s 1ms/step - loss: 1.7054 - accuracy: 0.6223\n",
      "Epoch 43/100\n",
      "110621/110621 [==============================] - 125s 1ms/step - loss: 1.6788 - accuracy: 0.6283\n",
      "Epoch 44/100\n",
      "110621/110621 [==============================] - 126s 1ms/step - loss: 1.6526 - accuracy: 0.6329\n",
      "Epoch 45/100\n",
      "110621/110621 [==============================] - 125s 1ms/step - loss: 1.6290 - accuracy: 0.6381\n",
      "Epoch 46/100\n",
      "110621/110621 [==============================] - 124s 1ms/step - loss: 1.5998 - accuracy: 0.6424\n",
      "Epoch 47/100\n",
      "110621/110621 [==============================] - 127s 1ms/step - loss: 1.5741 - accuracy: 0.6482\n",
      "Epoch 48/100\n",
      "110621/110621 [==============================] - 126s 1ms/step - loss: 1.5556 - accuracy: 0.6531\n",
      "Epoch 49/100\n",
      "110621/110621 [==============================] - 122s 1ms/step - loss: 1.5291 - accuracy: 0.6584\n",
      "Epoch 50/100\n",
      "110621/110621 [==============================] - 126s 1ms/step - loss: 1.5108 - accuracy: 0.6610\n",
      "Epoch 51/100\n",
      "110621/110621 [==============================] - 124s 1ms/step - loss: 1.4895 - accuracy: 0.6657\n",
      "Epoch 52/100\n",
      "110621/110621 [==============================] - 123s 1ms/step - loss: 1.4689 - accuracy: 0.6700\n",
      "Epoch 53/100\n",
      "110621/110621 [==============================] - 124s 1ms/step - loss: 1.4514 - accuracy: 0.6731\n",
      "Epoch 54/100\n",
      "110621/110621 [==============================] - 122s 1ms/step - loss: 1.4334 - accuracy: 0.6772\n",
      "Epoch 55/100\n",
      "110621/110621 [==============================] - 122s 1ms/step - loss: 1.4158 - accuracy: 0.6799\n",
      "Epoch 56/100\n",
      "110621/110621 [==============================] - 121s 1ms/step - loss: 1.3942 - accuracy: 0.6856\n",
      "Epoch 57/100\n",
      "110621/110621 [==============================] - 121s 1ms/step - loss: 1.3830 - accuracy: 0.6882\n",
      "Epoch 58/100\n",
      "110621/110621 [==============================] - 119s 1ms/step - loss: 1.3651 - accuracy: 0.6927\n",
      "Epoch 59/100\n",
      "110621/110621 [==============================] - 119s 1ms/step - loss: 1.3489 - accuracy: 0.6939\n",
      "Epoch 60/100\n",
      "110621/110621 [==============================] - 121s 1ms/step - loss: 1.3320 - accuracy: 0.6973\n",
      "Epoch 61/100\n",
      "110621/110621 [==============================] - 125s 1ms/step - loss: 1.3200 - accuracy: 0.7012\n",
      "Epoch 62/100\n",
      "110621/110621 [==============================] - 121s 1ms/step - loss: 1.3051 - accuracy: 0.7036\n",
      "Epoch 63/100\n",
      "110621/110621 [==============================] - 121s 1ms/step - loss: 1.2896 - accuracy: 0.7072\n",
      "Epoch 64/100\n",
      "110621/110621 [==============================] - 121s 1ms/step - loss: 1.2804 - accuracy: 0.7093\n",
      "Epoch 65/100\n",
      "110621/110621 [==============================] - 121s 1ms/step - loss: 1.2677 - accuracy: 0.7118\n",
      "Epoch 66/100\n",
      "110621/110621 [==============================] - 120s 1ms/step - loss: 1.2525 - accuracy: 0.7161\n",
      "Epoch 67/100\n",
      "110621/110621 [==============================] - 120s 1ms/step - loss: 1.2424 - accuracy: 0.7156\n",
      "Epoch 68/100\n",
      "110621/110621 [==============================] - 120s 1ms/step - loss: 1.2306 - accuracy: 0.7182\n",
      "Epoch 69/100\n",
      "110621/110621 [==============================] - 121s 1ms/step - loss: 1.2158 - accuracy: 0.7222\n",
      "Epoch 70/100\n",
      "110621/110621 [==============================] - 120s 1ms/step - loss: 1.2056 - accuracy: 0.7251\n",
      "Epoch 71/100\n",
      "110621/110621 [==============================] - 120s 1ms/step - loss: 1.1951 - accuracy: 0.7261\n",
      "Epoch 72/100\n",
      "110621/110621 [==============================] - 120s 1ms/step - loss: 1.1856 - accuracy: 0.7297\n",
      "Epoch 73/100\n",
      "110621/110621 [==============================] - 120s 1ms/step - loss: 1.1726 - accuracy: 0.7318\n",
      "Epoch 74/100\n",
      "110621/110621 [==============================] - 120s 1ms/step - loss: 1.1660 - accuracy: 0.7332\n",
      "Epoch 75/100\n"
     ]
    },
    {
     "name": "stdout",
     "output_type": "stream",
     "text": [
      "110621/110621 [==============================] - 121s 1ms/step - loss: 1.1536 - accuracy: 0.7356\n",
      "Epoch 76/100\n",
      "110621/110621 [==============================] - 122s 1ms/step - loss: 1.1388 - accuracy: 0.7388\n",
      "Epoch 77/100\n",
      "110621/110621 [==============================] - 122s 1ms/step - loss: 1.1314 - accuracy: 0.7404\n",
      "Epoch 78/100\n",
      "110621/110621 [==============================] - 120s 1ms/step - loss: 1.1238 - accuracy: 0.7423\n",
      "Epoch 79/100\n",
      "110621/110621 [==============================] - 120s 1ms/step - loss: 1.1191 - accuracy: 0.7434\n",
      "Epoch 80/100\n",
      "110621/110621 [==============================] - 120s 1ms/step - loss: 1.1081 - accuracy: 0.7461\n",
      "Epoch 81/100\n",
      "110621/110621 [==============================] - 120s 1ms/step - loss: 1.0977 - accuracy: 0.7487\n",
      "Epoch 82/100\n",
      "110621/110621 [==============================] - 120s 1ms/step - loss: 1.0872 - accuracy: 0.7503\n",
      "Epoch 83/100\n",
      "110621/110621 [==============================] - 122s 1ms/step - loss: 1.0848 - accuracy: 0.7516\n",
      "Epoch 84/100\n",
      "110621/110621 [==============================] - 127s 1ms/step - loss: 1.0800 - accuracy: 0.7525\n",
      "Epoch 85/100\n",
      "110621/110621 [==============================] - 135s 1ms/step - loss: 1.0691 - accuracy: 0.7548\n",
      "Epoch 86/100\n",
      "110621/110621 [==============================] - 133s 1ms/step - loss: 1.0621 - accuracy: 0.7560\n",
      "Epoch 87/100\n",
      "110621/110621 [==============================] - 126s 1ms/step - loss: 1.0585 - accuracy: 0.7567\n",
      "Epoch 88/100\n",
      "110621/110621 [==============================] - 127s 1ms/step - loss: 1.0490 - accuracy: 0.7581\n",
      "Epoch 89/100\n",
      "110621/110621 [==============================] - 127s 1ms/step - loss: 1.0406 - accuracy: 0.7613\n",
      "Epoch 90/100\n",
      "110621/110621 [==============================] - 124s 1ms/step - loss: 1.0377 - accuracy: 0.7613\n",
      "Epoch 91/100\n",
      "110621/110621 [==============================] - 126s 1ms/step - loss: 1.0279 - accuracy: 0.7649\n",
      "Epoch 92/100\n",
      "110621/110621 [==============================] - 127s 1ms/step - loss: 1.0220 - accuracy: 0.7641\n",
      "Epoch 93/100\n",
      "110621/110621 [==============================] - 124s 1ms/step - loss: 1.0174 - accuracy: 0.7655\n",
      "Epoch 94/100\n",
      "110621/110621 [==============================] - 127s 1ms/step - loss: 1.0100 - accuracy: 0.7680\n",
      "Epoch 95/100\n",
      "110621/110621 [==============================] - 124s 1ms/step - loss: 1.0121 - accuracy: 0.7661\n",
      "Epoch 96/100\n",
      "110621/110621 [==============================] - 120s 1ms/step - loss: 0.9970 - accuracy: 0.7695\n",
      "Epoch 97/100\n",
      "110621/110621 [==============================] - 120s 1ms/step - loss: 0.9979 - accuracy: 0.7690\n",
      "Epoch 98/100\n",
      "110621/110621 [==============================] - 120s 1ms/step - loss: 0.9878 - accuracy: 0.7722\n",
      "Epoch 99/100\n",
      "110621/110621 [==============================] - 121s 1ms/step - loss: 0.9865 - accuracy: 0.7721\n",
      "Epoch 100/100\n",
      "110621/110621 [==============================] - 125s 1ms/step - loss: 0.9790 - accuracy: 0.7748\n"
     ]
    }
   ],
   "source": [
    "model = Sequential()\n",
    "model.add(Embedding(total_words, 130,input_length=max_sequences_len-1))\n",
    "model.add(Bidirectional(LSTM(18)))\n",
    "model.add(Dense(3500))\n",
    "model.add(Dense(total_words, activation='softmax'))\n",
    "model.compile(optimizer='adam', loss='categorical_crossentropy',metrics=['accuracy'])\n",
    "history=model.fit(xs,ys, epochs=100,verbose=1)"
   ]
  },
  {
   "cell_type": "code",
   "execution_count": 45,
   "metadata": {},
   "outputs": [],
   "source": [
    "import matplotlib.pyplot as plt\n",
    "\n",
    "def plot_graphs(history, string):\n",
    "    plt.plot(history.history[string])\n",
    "    plt.xlabel(\"Epochs\")\n",
    "    plt.ylabel(string)\n",
    "    plt.show()"
   ]
  },
  {
   "cell_type": "code",
   "execution_count": 46,
   "metadata": {},
   "outputs": [
    {
     "data": {
      "image/png": "[encoded data removed]",
      "text/plain": [
       "<Figure size 432x288 with 1 Axes>"
      ]
     },
     "metadata": {
      "needs_background": "light"
     },
     "output_type": "display_data"
    }
   ],
   "source": [
    "plot_graphs(history, 'accuracy')"
   ]
  },
  {
   "cell_type": "code",
   "execution_count": 236,
   "metadata": {},
   "outputs": [],
   "source": [
    "seed_text =\"the most\""
   ]
  },
  {
   "cell_type": "code",
   "execution_count": 237,
   "metadata": {},
   "outputs": [],
   "source": [
    "token_list = tokenizer.texts_to_sequences([seed_text])[0]\n",
    "token_list = pad_sequences([token_list], maxlen = max_sequences_len-1, padding='pre')\n"
   ]
  },
  {
   "cell_type": "code",
   "execution_count": 238,
   "metadata": {},
   "outputs": [
    {
     "data": {
      "text/plain": [
       "array([[ 0,  0,  0,  0,  0,  0,  0,  0,  0,  0,  0,  0,  0,  0,  0,  0,\n",
       "         1, 78]])"
      ]
     },
     "execution_count": 238,
     "metadata": {},
     "output_type": "execute_result"
    }
   ],
   "source": [
    "token_list"
   ]
  },
  {
   "cell_type": "code",
   "execution_count": 239,
   "metadata": {},
   "outputs": [],
   "source": [
    "predicted = model.predict_classes(token_list, verbose=0)"
   ]
  },
  {
   "cell_type": "code",
   "execution_count": 240,
   "metadata": {},
   "outputs": [],
   "source": [
    "for word, index in tokenizer.word_index.items():\n",
    "    if index == predicted:\n",
    "        output_word = word\n",
    "        break\n",
    "seed_text += \" \" + output_word"
   ]
  },
  {
   "cell_type": "code",
   "execution_count": 241,
   "metadata": {},
   "outputs": [
    {
     "name": "stdout",
     "output_type": "stream",
     "text": [
      "the most interesting\n"
     ]
    }
   ],
   "source": [
    "print(seed_text)"
   ]
  },
  {
   "cell_type": "code",
   "execution_count": 242,
   "metadata": {},
   "outputs": [
    {
     "name": "stdout",
     "output_type": "stream",
     "text": [
      "the most interesting member of this family group in my eyes\n"
     ]
    }
   ],
   "source": [
    "next_words = 8\n",
    "\n",
    "for _ in range(next_words):\n",
    "    token_list = token_list = tokenizer.texts_to_sequences([seed_text])[0]\n",
    "    token_list = pad_sequences([token_list], maxlen = max_sequences_len-1, padding='pre')\n",
    "    predicted = model.predict_classes(token_list, verbose=0)\n",
    "    output_word = \" \"\n",
    "    for word, index in tokenizer.word_index.items():\n",
    "        if index == predicted:\n",
    "            output_word = word\n",
    "            break\n",
    "    seed_text += \" \" + output_word\n",
    "print(seed_text)"
   ]
  },
  {
   "cell_type": "code",
   "execution_count": null,
   "metadata": {},
   "outputs": [],
   "source": []
  }
 ],
 "metadata": {
  "kernelspec": {
   "display_name": "TensorFlow-GPU-2.1.0",
   "language": "python",
   "name": "tf-gpu"
  },
  "language_info": {
   "codemirror_mode": {
    "name": "ipython",
    "version": 3
   },
   "file_extension": ".py",
   "mimetype": "text/x-python",
   "name": "python",
   "nbconvert_exporter": "python",
   "pygments_lexer": "ipython3",
   "version": "3.7.7"
  }
 },
 "nbformat": 4,
 "nbformat_minor": 4
}
